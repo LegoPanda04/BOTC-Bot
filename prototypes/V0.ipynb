{
 "cells": [
  {
   "metadata": {},
   "cell_type": "markdown",
   "source": [
    "Rough layout\n",
    "\n",
    "town, outsider, minion, demon dicts\n",
    "\n",
    "Add a dictionary of 1, 2, 3 star roles\n",
    "\n",
    "Make a way of storing scripts\n",
    "\n",
    "Make way of outputting scripts\n",
    "\n",
    "Make way of adding new roles"
   ],
   "id": "f511afe1d0b5145a"
  },
  {
   "metadata": {
    "ExecuteTime": {
     "end_time": "2025-01-12T05:20:59.862858Z",
     "start_time": "2025-01-12T05:20:59.074509Z"
    }
   },
   "cell_type": "code",
   "source": "import pandas as pd",
   "id": "da5aae0e3bbfebd8",
   "outputs": [],
   "execution_count": 2
  },
  {
   "cell_type": "code",
   "id": "initial_id",
   "metadata": {
    "collapsed": true,
    "ExecuteTime": {
     "end_time": "2025-01-12T05:20:59.881658Z",
     "start_time": "2025-01-12T05:20:59.863947Z"
    }
   },
   "source": [
    "# Dictionary\n",
    "role_dict = {\n",
    "    # Town\n",
    "    \"Artist\":\"Privately, during the day, you may return home to ask the storyteller any one yes or no question\",\n",
    "    \"Atheist\":\"The storyteller can break the rules. If the storyteller is executed, good wins (If there isn’t an atheist, then evil wins if this happens). There are no evil players; everybody knows that demons aren’t real, idiot.\",\n",
    "    \"Balloonist\":\"Nightly, learn the name of a living player of a different type from (demon, minion, outsider, or town) than last night. There might be +1 outsider\",\n",
    "    \"Bounty Hunter\":\"Start knowing 1 evil player. If they die, learn a different evil player that night. +1 Minion, -1 Town\",\n",
    "    \"Cannibal\":\"Gain the ability of the last executed person. If they were evil, you are poisoned until a good player is executed\",\n",
    "    \"Dreamer\":\"Nightly, choose a player. You learn 1 good and 1 evil role they might be, one of which is correct\",\n",
    "    \"Empath\":\"Nightly learn how many of your 2 closest neighbors are evil\",\n",
    "    \"Ferryman\":\"If you are alive in the final 3, all ghost votes are refreshed\",\n",
    "    \"Fisherman\":\"Once per game, you may go home during discussion to ask the storyteller for a founded piece of advice to help good win\",\n",
    "    \"Flower Girl\":\"Nightly, learn if the demon voted that day\",\n",
    "    \"Fool\":\"First time you die, don’t\",\n",
    "    \"Fortune Teller\":\"Nightly, check 2 people and learn if the demon is among them. 1 person in the game will register as a red herring\",\n",
    "    \"Gambler\":\"Nightly, you may choose to guess someone’s role. If you are wrong, you die\",\n",
    "    \"Gossip\":\"Each day, you may publicly declare a rumor. If the rumor is true, someone will die during the night\",\n",
    "    \"Grandmother\":\"Start knowing 1 person is a specific good role; if they die from the demon you die too\",\n",
    "    \"Illusionist\":\"Demons and minions do not know each other until you die\",\n",
    "    \"Investigator\":\"Start knowing 1 of 2 people is a specific minion\",\n",
    "    \"Librarian\":\"Start knowing 1 of 2 people is a specific outsider\",\n",
    "    \"Lycanthrope\":\"At night, choose 1 living player. If they are innocent, they die, but the demon can't kill anyone else that night\",\n",
    "    \"Magician\":\"The minion is told that either you or the demon is their demon, and the demon is told that either you or the minion is their minion\",\n",
    "    \"Mayor\":\"If nobody is executed in the final 3, town wins. When you are attacked, another town may die instead\",\n",
    "    \"Monk\":\"Nightly, choose someone to protect from the demon\",\n",
    "    \"Nightwatchmen\":\"Once per game, at night, one chosen player learns that you are the nightwatchmen\",\n",
    "    \"Noble\":\"Start with a list of 2 good players and 1 evil, you don't know which is which\",\n",
    "    \"Oracle\":\"Nightly, learn how many dead people are evil\",\n",
    "    \"Phantom\":\"Your ghost vote can be used up to 3 times instead of once\",\n",
    "    \"Philosopher\":\"Once per game, at night, you may select a town role from the script to gain the ability of. If that role is in play, its player becomes drunk until the philosopher dies or stops being the philosopher\",\n",
    "    \"Pixie\":\"Start knowing 1 in-play town role. If you act mad as that role, and the player with that role dies, you gain that role ability\",\n",
    "    \"Prophet\":\"If a team has not yet won 3 days after your death, you return to life and cannot be killed again by the same method\",\n",
    "    \"Ravenkeeper\":\"If you die during the night, choose a player to learn the role of\",\n",
    "    \"Sailor\":\"You can't die. Nightly, choose a living player, who is told they were visited by the Sailor. You or they are drunk until the start of the next night\",\n",
    "    \"Seamstress\":\"Once per game, you may check if 2 people are on same team at night\",\n",
    "    \"Slayer\":\"Once per game, during the town meeting, attempt to kill another player; they die if they’re the demon\",\n",
    "    \"Soldier\":\"Cannot be killed by the demon at night\",\n",
    "    \"Tea Lady\":\"If both of your living neighbors are good, neither can die\",\n",
    "    \"Town Crier\":\"Nightly, learn if the minion nominated someone that day\",\n",
    "    \"Undertaker\":\"Nightly, learn which role died by execution\",\n",
    "    \"Virgin\":\"If the first person to nominate you is good, they are instantly executed\",\n",
    "    \"Washerwoman\":\"Start knowing 1 of 2 people is a specific town\",\n",
    "    # Outsider\n",
    "    \"Butler\":\"Each night, choose a player to be your master. You cannot vote in favor of an execution unless your master does\",\n",
    "    \"Drunk\":\"You think you are a specific town role that is not in play, but your ability doesn’t work\",\n",
    "    \"Gangster\":\"If you and a neighbor agree to kill your other neighbor, and tell the storyteller in town square during discussion time, that agreed-upon other neighbor will die during the night. If the Gangster gets both to agree to kill the other, they choose which will actually die at night\",\n",
    "    \"Golem\":\"You may only nominate once. When you do so, if the player you nominated isnt the demon, they instantly die\",\n",
    "    \"Heretic\":\"Whichever side wins, loses, and vice-versa. This effect persists even once you die\",\n",
    "    \"Lunatic\":\"You think you are a specific demon; the actual demon knows who you choose to try to kill\",\n",
    "    \"Moleman\":\"Each night, choose three living players (before anyone dies that night). If one is executed the following day, one of the other two, if alive, will be instead\",\n",
    "    \"Ogre\":\"On the first night, pick a player. You are their alignment for the rest of the game, but are not told what that alignment is\",\n",
    "    \"Politician\":\"If you are the most influential in good losing, become and win with evil\",\n",
    "    \"Recluse\":\"May register as some manner of evil to other role abilities, even after dying\",\n",
    "    \"Saint\":\"If you’re executed by the town, evil wins\",\n",
    "    \"Sweetheart\":\"When you die, a player becomes a drunk for the rest of the game\",\n",
    "    \"Voudon\":\"Once there are two or more dead players, the following effects occur: Ghost votes become unlimited, only the voudon and dead players may vote, and the 'marked for execution' threshold becomes 1. Once killed, all three effects are undone and you do not recieve a ghost vote\",\n",
    "    # Minions\n",
    "    \"Assassin\":\"Once per game, at night, choose a player to die. This bypasses defensive abilities\",\n",
    "    \"Baron\":\"+2 Outsiders\",\n",
    "    \"Boffin\":\"While alive, your demon has a specific good role ability; you both know which\",\n",
    "    \"Cerenovus\":\"Nightly, choose a player to be mad that they are a specific role until the next night, or they might die\",\n",
    "    \"Evil Twin\":\"Start knowing a specific town and their role. They know that you are their Evil Twin. If the town twin is executed, evil wins. Good cannot win while both are alive\",\n",
    "    \"Goblin\":\"If you publicly announce that they are the goblin for the first time once nominated, and are executed that day, evil wins\",\n",
    "    \"Marionette\":\"You think you are a specific town or outsider role that is not in play, but your ability doesn’t work and you’re actually a minion. You will always neighbor the demon\",\n",
    "    \"Mastermind\":\"If the demon is executed, continue for another day. If a good player is executed after the demon, evil win\",\n",
    "    \"Mezepheles\":\"Start knowing a secret word. The first good player who says the secret word to the storyteller at any time, public or private, turns evil that night. The Mezepheles does not learn if someone has been converted, but the converted player does\",\n",
    "    \"Poisoner\":\"Nightly, poison 1 player until the next night begins\",\n",
    "    \"Scarlet Woman\":\"If the demon dies when there are 5 or more people alive, you become the demon\",\n",
    "    \"Summoner\":\"You gain 3 bluffs. On night 2, turn a player of your choice into a demon of your choice from the active script who acts immediately. There is no demon at the start of the game.\",\n",
    "    \"Spy\":\"Nightly, learn all roles. You may appear as good to role abilities\",\n",
    "    \"Witch\":\"Nightly, choose a player. If they nominate someone, they die. This ability is disabled the moment 3 or less people remain alive\",\n",
    "    # Demons\n",
    "    \"Agonyxolotl\":\" +1 minion. The Agonyxolotl is not a player, but must instead be babysat (held in the inventory) by a living minion. Each night, all minions wake and decide who will babysit Agonyxolotl, acting as demon for the day. If the present babysitter dies, evil loses. Nightly, someone will die. Whether the babysitter is drunk or poisoned does not affect the Agonyxolotl\",\n",
    "    \"Fang Gu\":\"Nightly, choose a living player to die. The first time per game an outsider is killed like this, the original Fang Gu dies and the targeted outsider becomes the new Fang Gu. +1 Outsider instead of town\",\n",
    "    \"Freddy\":\"All players are told that Freddy is free. After 5 nights, evil wins. If more than 1 good player is executed, evil wins. Freddy does not kill any players during the night\",\n",
    "    \"Heath'lami\":\"Each night, select a location somewhere in town to plant a mine. Mines persist for the rest of the game, and are only visible to evil players. When a player steps on a mine, they immediately die\",\n",
    "    \"Imp\":\"Nightly, choose a living player to die. If you kill yourself like this, your minion becomes an Imp\",\n",
    "    \"Legion\":\"There are 5 players of Legion, who all know each other, but none recieve bluffs. Executions fail if only evil players voted. Members of legion may appear as demons or minions to role abilities. Each night, someone will die. There are no minions or outsiders.\",\n",
    "    \"Ojo\":\"Nightly, choose a role. If a player with that role exists, they die. If nobody has the role, the storyteller decides who dies\",\n",
    "    \"Prisdelo\":\"Nightly, choose 3 living players. Each is informed that they have been selected. Each must individually choose whether to live or die. If all choose to live, all die\",\n",
    "    \"Springtrap\":\"Nightly, if nobody died today, choose a living player to die. When you die, you feign death and “Come Back” to life once, while still appearing as dead (dead players can still be nominated!)\",\n",
    "    \"Vigormortis\":\"Nightly, choose a living player to die. If you kill your minion, they retain their ability and permanently poison an adjacent town. -1 Outsider\",\n",
    "    \"Yaggababble\":\"When the game begins, you are informed of a secret phrase. Any time you publicly say the phrase, a player may die that night, up to a maximum of 3 (diminishing returns after first time spoken)\"\n",
    "}"
   ],
   "outputs": [],
   "execution_count": 3
  },
  {
   "metadata": {
    "ExecuteTime": {
     "end_time": "2025-01-12T05:20:59.929834Z",
     "start_time": "2025-01-12T05:20:59.923812Z"
    }
   },
   "cell_type": "code",
   "source": [
    "difficulties = {\n",
    "    \"*\":[\"Balloonist\", \"Ferryman\", \"Gossip\", \"Illusionist\", \"Lycanthrope\", \"Magician\", \"Philosopher\", \"Pixie\", \"Sailor\", \"Gangster\", \"Golem\", \"Moleman\", \"Ogre\", \"Cerenovous\" ,\"Evil Twin\", \"Goblin\", \"Mezepheles\", \"Summoner\", \"Agonyxolotl\", \"Heath'lami\", \"Prisdelo\", \"Springtrap\"],\n",
    "    \"**\":[\"Bounty Hunter\", \"Fisherman\", \"Heretic\", \"Politician\", \"Voudon\", \"Mastermind\", \"Freddy\", \"Legion\", \"Yaggababble\"],\n",
    "    \"***\":[\"Atheist\"]\n",
    "}"
   ],
   "id": "2ebe41c9ed1c66ad",
   "outputs": [],
   "execution_count": 4
  },
  {
   "metadata": {
    "ExecuteTime": {
     "end_time": "2025-01-12T05:20:59.975590Z",
     "start_time": "2025-01-12T05:20:59.964050Z"
    }
   },
   "cell_type": "code",
   "source": [
    "class Script:\n",
    "    def __init__(self, name, towns, outsiders, minions, demons):\n",
    "        self.name = name\n",
    "        self.towns = towns\n",
    "        self.outsiders = outsiders\n",
    "        self.minions = minions\n",
    "        self.demons = demons\n",
    "        self.difficulty = \"\"\n",
    "        # Calculate the difficulty level based on roles\n",
    "        for difficulty_level, candidates in difficulties.items():\n",
    "            for candidate in candidates:\n",
    "                if candidate in self.towns or candidate in self.outsiders or candidate in self.minions or candidate in self.demons:\n",
    "                    self.difficulty = difficulty_level\n",
    "        \n",
    "    def extract_details(self, type_of_roles):\n",
    "        for role in type_of_roles:\n",
    "            print(f\"**{role}** {role_dict[role]}\")\n",
    "    \n",
    "    def print_roles_glossary(self):\n",
    "        print(f\"# **{self.name}{self.difficulty} - Specific Roles Glossary**\")\n",
    "        print(\"\")\n",
    "        print(\"# **Towns**\")\n",
    "        self.extract_details(self.towns)\n",
    "        print(\"\")\n",
    "        print(\"# **Outsiders**\")\n",
    "        self.extract_details(self.outsiders)\n",
    "        print(\"\")\n",
    "        print(\"# **Minions**\")\n",
    "        self.extract_details(self.minions)\n",
    "        print(\"\")\n",
    "        print(\"# **Demons**\")\n",
    "        self.extract_details(self.demons)"
   ],
   "id": "2b706e31aed8fe55",
   "outputs": [],
   "execution_count": 5
  },
  {
   "metadata": {
    "ExecuteTime": {
     "end_time": "2025-01-12T05:21:00.001019Z",
     "start_time": "2025-01-12T05:20:59.992998Z"
    }
   },
   "cell_type": "code",
   "source": [
    "foo = Script(\n",
    "    name=\"The Drink\",\n",
    "    towns=[\"Artist\", \"Balloonist\", \"Flower Girl\", \"Investigator\", \"Ravenkeeper\", \"Magician\", \"Mayor\", \"Monk\", \"Noble\", \"Prophet\", \"Sailor\", \"Soldier\", \"Tea Lady\"],\n",
    "    outsiders=[\"Drunk\", \"Moleman\", \"Ogre\", \"Recluse\", \"Sweetheart\"],\n",
    "    minions=[\"Baron\", \"Poisoner\", \"Scarlet Woman\", \"Spy\", \"Witch\"],\n",
    "    demons=[\"Fang Gu\", \"Ojo\", \"Prisdelo\", \"Vigormortis\"]\n",
    ")\n",
    "\n",
    "foo.print_roles_glossary()"
   ],
   "id": "89d4ac33ae4831bf",
   "outputs": [
    {
     "name": "stdout",
     "output_type": "stream",
     "text": [
      "# **The Drink* - Specific Roles Glossary**\n",
      "\n",
      "# **Towns**\n",
      "**Artist** Privately, during the day, you may return home to ask the storyteller any one yes or no question\n",
      "**Balloonist** Nightly, learn the name of a living player of a different type from (demon, minion, outsider, or town) than last night. There might be +1 outsider\n",
      "**Flower Girl** Nightly, learn if the demon voted that day\n",
      "**Investigator** Start knowing 1 of 2 people is a specific minion\n",
      "**Ravenkeeper** If you die during the night, choose a player to learn the role of\n",
      "**Magician** The minion is told that either you or the demon is their demon, and the demon is told that either you or the minion is their minion\n",
      "**Mayor** If nobody is executed in the final 3, town wins. When you are attacked, another town may die instead\n",
      "**Monk** Nightly, choose someone to protect from the demon\n",
      "**Noble** Start with a list of 2 good players and 1 evil, you don't know which is which\n",
      "**Prophet** If a team has not yet won 3 days after your death, you return to life and cannot be killed again by the same method\n",
      "**Sailor** You can't die. Nightly, choose a living player, who is told they were visited by the Sailor. You or they are drunk until the start of the next night\n",
      "**Soldier** Cannot be killed by the demon at night\n",
      "**Tea Lady** If both of your living neighbors are good, neither can die\n",
      "\n",
      "# **Outsiders**\n",
      "**Drunk** You think you are a specific town role that is not in play, but your ability doesn’t work\n",
      "**Moleman** Each night, choose three living players (before anyone dies that night). If one is executed the following day, one of the other two, if alive, will be instead\n",
      "**Ogre** On the first night, pick a player. You are their alignment for the rest of the game, but are not told what that alignment is\n",
      "**Recluse** May register as some manner of evil to other role abilities, even after dying\n",
      "**Sweetheart** When you die, a player becomes a drunk for the rest of the game\n",
      "\n",
      "# **Minions**\n",
      "**Baron** +2 Outsiders\n",
      "**Poisoner** Nightly, poison 1 player until the next night begins\n",
      "**Scarlet Woman** If the demon dies when there are 5 or more people alive, you become the demon\n",
      "**Spy** Nightly, learn all roles. You may appear as good to role abilities\n",
      "**Witch** Nightly, choose a player. If they nominate someone, they die. This ability is disabled the moment 3 or less people remain alive\n",
      "\n",
      "# **Demons**\n",
      "**Fang Gu** Nightly, choose a living player to die. The first time per game an outsider is killed like this, the original Fang Gu dies and the targeted outsider becomes the new Fang Gu. +1 Outsider instead of town\n",
      "**Ojo** Nightly, choose a role. If a player with that role exists, they die. If nobody has the role, the storyteller decides who dies\n",
      "**Prisdelo** Nightly, choose 3 living players. Each is informed that they have been selected. Each must individually choose whether to live or die. If all choose to live, all die\n",
      "**Vigormortis** Nightly, choose a living player to die. If you kill your minion, they retain their ability and permanently poison an adjacent town. -1 Outsider\n"
     ]
    }
   ],
   "execution_count": 6
  },
  {
   "metadata": {
    "ExecuteTime": {
     "end_time": "2025-01-12T05:21:00.193657Z",
     "start_time": "2025-01-12T05:21:00.183878Z"
    }
   },
   "cell_type": "code",
   "source": [
    "bar = [\"Artist\", \"Balloonist\", \"Flower Girl\", \"Investigator\", \"Ravenkeeper\", \"Magician\", \"Mayor\", \"Monk\", \"Noble\", \"Prophet\", \"Sailor\", \"Soldier\", \"Tea Lady\"]\n",
    "bar2 = [\"Drunk\", \"Heretic\", \"Sweetheart\"]\n",
    "difficulty = \"\"\n",
    "for difficulty_level, candidates in difficulties.items():\n",
    "    for candidate in candidates:\n",
    "        if candidate in bar or candidate in bar2:\n",
    "            difficulty = difficulty_level\n",
    "print(difficulty)"
   ],
   "id": "f384b06e2ab99947",
   "outputs": [
    {
     "name": "stdout",
     "output_type": "stream",
     "text": [
      "**\n"
     ]
    }
   ],
   "execution_count": 7
  },
  {
   "metadata": {
    "ExecuteTime": {
     "end_time": "2025-01-12T05:24:04.618783Z",
     "start_time": "2025-01-12T05:24:04.607865Z"
    }
   },
   "cell_type": "code",
   "source": "pd.DataFrame(role_dict.items(), columns=['Role', 'Description']).to_csv(\"Roles.csv\", index=False, header=True)",
   "id": "bf6421b875b018aa",
   "outputs": [],
   "execution_count": 14
  }
 ],
 "metadata": {
  "kernelspec": {
   "display_name": "Python 3",
   "language": "python",
   "name": "python3"
  },
  "language_info": {
   "codemirror_mode": {
    "name": "ipython",
    "version": 2
   },
   "file_extension": ".py",
   "mimetype": "text/x-python",
   "name": "python",
   "nbconvert_exporter": "python",
   "pygments_lexer": "ipython2",
   "version": "2.7.6"
  }
 },
 "nbformat": 4,
 "nbformat_minor": 5
}
